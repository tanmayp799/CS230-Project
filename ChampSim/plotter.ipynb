{
 "cells": [
  {
   "attachments": {},
   "cell_type": "markdown",
   "metadata": {},
   "source": [
    "# Data Collection\n",
    "\n",
    "excl means 0\\\n",
    "incl means 1\\\n",
    "nine means 2\n",
    "\n",
    "cadical-high-60K-1227B.champsimtrace.xz means 0\\\n",
    "cadical-high-60K-134B.champsimtrace.xz means 1\\\n",
    "kissat-inc-high-30K-1802B.champsimtrace.xz means 2\n",
    "\n",
    "drrip means 0\\\n",
    "fifo means 1\\\n",
    "lfu means 2\\\n",
    "lru means 3\\\n",
    "ship means 4\\\n",
    "ssrip means 5\n",
    "\n",
    "stores 3->3->6 - heir->trace->repl: [IPC, L1D-MR, L2-MR, LLC-MR]\n",
    "\n",
    "example: suppose you want the [IPC, L1D-MR, L2-MR, LLC-MR] for incl, cadical-high-60K-134B.champsimtrace.xz, lfu\\\n",
    "use final[1][0][2]\\\n",
    "code will be modified in case we implement the size thing"
   ]
  },
  {
   "cell_type": "code",
   "execution_count": null,
   "metadata": {},
   "outputs": [
    {
     "ename": "",
     "evalue": "",
     "output_type": "error",
     "traceback": [
      "\u001b[1;31mFailed to start the Kernel. \n",
      "\u001b[1;31mAttributeError: 'EPollIOLoop' object has no attribute 'asyncio_loop'. \n",
      "View Jupyter <a href='command:jupyter.viewOutput'>log</a> for further details."
     ]
    }
   ],
   "source": [
    "import os\n",
    "\n",
    "files_excl = sorted(os.listdir('./results/results_excl/results_30M'))\n",
    "files_incl = sorted(os.listdir('./results/results_incl/results_30M'))\n",
    "files_nine = sorted(os.listdir('./results/results_nine/results_30M'))\n",
    "\n",
    "final = [[], [], []] # stores 3->3->6 - heir->trace->repl: [IPC, L1D-MR, L2-MR, LLC-MR]\n",
    "\n",
    "for i in range(3):\n",
    "    for_each_trace = []\n",
    "    for j in range(6):\n",
    "        for_each_repl = []\n",
    "        file = open('./results/results_excl/results_30M/%s'%(files_excl[6*i+j]), 'r').read().split('\\n')\n",
    "        line = 0\n",
    "        while(not file[line].startswith('CPU 0 cumulative IPC')):\n",
    "            line = line+1\n",
    "        for_each_repl.append(float(file[line].split()[4]))\n",
    "        while(not file[line].startswith('L1D TOTAL     ACCESS')):\n",
    "            line = line+1\n",
    "        for_each_repl.append(float(file[line].split()[7])/float(file[line].split()[3]))\n",
    "        while(not file[line].startswith('L2C TOTAL     ACCESS')):\n",
    "            line = line+1\n",
    "        for_each_repl.append(float(file[line].split()[7])/float(file[line].split()[3]))\n",
    "        while(not file[line].startswith('LLC TOTAL     ACCESS')):\n",
    "            line = line+1\n",
    "        for_each_repl.append(float(file[line].split()[7])/float(file[line].split()[3]))\n",
    "        for_each_trace.append(for_each_repl)\n",
    "    final[0].append(for_each_trace)\n",
    "\n",
    "for i in range(3):\n",
    "    for_each_trace = []\n",
    "    for j in range(6):\n",
    "        for_each_repl = []\n",
    "        file = open('./results/results_incl/results_30M/%s'%(files_incl[6*i+j]), 'r').read().split('\\n')\n",
    "        line = 0\n",
    "        while(not file[line].startswith('CPU 0 cumulative IPC')):\n",
    "            line = line+1\n",
    "        for_each_repl.append(float(file[line].split()[4]))\n",
    "        while(not file[line].startswith('L1D TOTAL     ACCESS')):\n",
    "            line = line+1\n",
    "        for_each_repl.append(float(file[line].split()[7])/float(file[line].split()[3]))\n",
    "        while(not file[line].startswith('L2C TOTAL     ACCESS')):\n",
    "            line = line+1\n",
    "        for_each_repl.append(float(file[line].split()[7])/float(file[line].split()[3]))\n",
    "        while(not file[line].startswith('LLC TOTAL     ACCESS')):\n",
    "            line = line+1\n",
    "        for_each_repl.append(float(file[line].split()[7])/float(file[line].split()[3]))\n",
    "        for_each_trace.append(for_each_repl)\n",
    "    final[1].append(for_each_trace)\n",
    "\n",
    "for i in range(3):\n",
    "    for_each_trace = []\n",
    "    for j in range(6):\n",
    "        for_each_repl = []\n",
    "        file = open('./results/results_nine/results_30M/%s'%(files_nine[6*i+j]), 'r').read().split('\\n')\n",
    "        line = 0\n",
    "        while(not file[line].startswith('CPU 0 cumulative IPC')):\n",
    "            line = line+1\n",
    "        for_each_repl.append(float(file[line].split()[4]))\n",
    "        while(not file[line].startswith('L1D TOTAL     ACCESS')):\n",
    "            line = line+1\n",
    "        for_each_repl.append(float(file[line].split()[7])/float(file[line].split()[3]))\n",
    "        while(not file[line].startswith('L2C TOTAL     ACCESS')):\n",
    "            line = line+1\n",
    "        for_each_repl.append(float(file[line].split()[7])/float(file[line].split()[3]))\n",
    "        while(not file[line].startswith('LLC TOTAL     ACCESS')):\n",
    "            line = line+1\n",
    "        for_each_repl.append(float(file[line].split()[7])/float(file[line].split()[3]))\n",
    "        for_each_trace.append(for_each_repl)\n",
    "    final[2].append(for_each_trace)\n",
    "\n",
    "for i in final:\n",
    "    print(i)"
   ]
  },
  {
   "attachments": {},
   "cell_type": "markdown",
   "metadata": {},
   "source": [
    "# Time to Plot\n",
    "\n",
    "We'll have 12 plots, 4 for each trace (comparing IPC and the 3 miss-rates respectively).\\\n",
    "Each plot has 6 (corresponding to 6 replacement policies) times 3 (corresponding to 3 hierarchy policies) = 18 bars."
   ]
  },
  {
   "cell_type": "code",
   "execution_count": null,
   "metadata": {},
   "outputs": [
    {
     "ename": "",
     "evalue": "",
     "output_type": "error",
     "traceback": [
      "\u001b[1;31mFailed to start the Kernel. \n",
      "\u001b[1;31mAttributeError: 'EPollIOLoop' object has no attribute 'asyncio_loop'. \n",
      "View Jupyter <a href='command:jupyter.viewOutput'>log</a> for further details."
     ]
    }
   ],
   "source": [
    "import matplotlib.pyplot as plt\n",
    "import numpy as np\n",
    "barWidth = 0.1\n",
    "traces = ['cadical-high-60K-1227B.champsimtrace.xz', 'cadical-high-60K-134B.champsimtrace.xz', 'kissat-inc-high-30K-1802B.champsimtrace.xz']"
   ]
  },
  {
   "cell_type": "code",
   "execution_count": null,
   "metadata": {},
   "outputs": [
    {
     "ename": "",
     "evalue": "",
     "output_type": "error",
     "traceback": [
      "\u001b[1;31mFailed to start the Kernel. \n",
      "\u001b[1;31mAttributeError: 'EPollIOLoop' object has no attribute 'asyncio_loop'. \n",
      "View Jupyter <a href='command:jupyter.viewOutput'>log</a> for further details."
     ]
    }
   ],
   "source": [
    "def plot_graph(trace):\n",
    "\tXLABS = ['IPC', 'L1D miss-rate', 'L2C miss-rate', 'LLC miss-rate']\n",
    "\n",
    "\tfor j in range(4):\n",
    "\t\tfig = plt.subplots(figsize =(12, 8))\n",
    "\n",
    "\t\tEXCL = []\n",
    "\t\tINCL = []\n",
    "\t\tNINE = []\n",
    "\n",
    "\t\tfor i in range(6):\n",
    "\t\t\tEXCL.append(final[0][trace][i][j])\n",
    "\t\t\tINCL.append(final[1][trace][i][j])\n",
    "\t\t\tNINE.append(final[2][trace][i][j])\n",
    "\n",
    "\t\tbr1 = np.arange(6)\n",
    "\t\tbr2 = [x + barWidth for x in br1]\n",
    "\t\tbr3 = [x + barWidth for x in br2]\n",
    "\n",
    "\t\tplt.bar(br1, EXCL, color ='r', width = barWidth, edgecolor ='grey', label ='EXCL')\n",
    "\t\tplt.bar(br2, INCL, color ='g', width = barWidth, edgecolor ='grey', label ='INCL')\n",
    "\t\tplt.bar(br3, NINE, color ='b', width = barWidth, edgecolor ='grey', label ='NINE')\n",
    "\n",
    "\t\tplt.xticks([r + barWidth for r in range(6)], ['drrip', 'fifo', 'lfu', 'lru', 'ship', 'srrip'])\n",
    "\n",
    "\t\tplt.ylabel(XLABS[j], fontweight ='bold', fontsize = 15)\n",
    "\n",
    "\t\tplt.ylim(min(EXCL+INCL+NINE)*0.99, max(EXCL+INCL+NINE)*1.01)\n",
    "\t\tplt.title(traces[trace])\n",
    "\n",
    "\t\tplt.show()"
   ]
  },
  {
   "cell_type": "code",
   "execution_count": null,
   "metadata": {},
   "outputs": [
    {
     "ename": "",
     "evalue": "",
     "output_type": "error",
     "traceback": [
      "\u001b[1;31mFailed to start the Kernel. \n",
      "\u001b[1;31mAttributeError: 'EPollIOLoop' object has no attribute 'asyncio_loop'. \n",
      "View Jupyter <a href='command:jupyter.viewOutput'>log</a> for further details."
     ]
    }
   ],
   "source": [
    "plot_graph(0)"
   ]
  },
  {
   "cell_type": "code",
   "execution_count": null,
   "metadata": {},
   "outputs": [
    {
     "ename": "",
     "evalue": "",
     "output_type": "error",
     "traceback": [
      "\u001b[1;31mFailed to start the Kernel. \n",
      "\u001b[1;31mAttributeError: 'EPollIOLoop' object has no attribute 'asyncio_loop'. \n",
      "View Jupyter <a href='command:jupyter.viewOutput'>log</a> for further details."
     ]
    }
   ],
   "source": [
    "plot_graph(1)"
   ]
  },
  {
   "cell_type": "code",
   "execution_count": null,
   "metadata": {},
   "outputs": [
    {
     "ename": "",
     "evalue": "",
     "output_type": "error",
     "traceback": [
      "\u001b[1;31mFailed to start the Kernel. \n",
      "\u001b[1;31mAttributeError: 'EPollIOLoop' object has no attribute 'asyncio_loop'. \n",
      "View Jupyter <a href='command:jupyter.viewOutput'>log</a> for further details."
     ]
    }
   ],
   "source": [
    "plot_graph(2)"
   ]
  }
 ],
 "metadata": {
  "kernelspec": {
   "display_name": "Python 3.10.6 64-bit",
   "language": "python",
   "name": "python3"
  },
  "language_info": {
   "codemirror_mode": {
    "name": "ipython",
    "version": 3
   },
   "file_extension": ".py",
   "mimetype": "text/x-python",
   "name": "python",
   "nbconvert_exporter": "python",
   "pygments_lexer": "ipython3",
   "version": "3.10.6"
  },
  "orig_nbformat": 4,
  "vscode": {
   "interpreter": {
    "hash": "916dbcbb3f70747c44a77c7bcd40155683ae19c65e1c03b4aa3499c5328201f1"
   }
  }
 },
 "nbformat": 4,
 "nbformat_minor": 2
}
