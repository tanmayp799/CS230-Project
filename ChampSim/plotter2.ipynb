{
 "cells": [
  {
   "cell_type": "code",
   "execution_count": null,
   "metadata": {},
   "outputs": [],
   "source": [
    "import os\n",
    "\n",
    "files = sorted(os.listdir())\n",
    "\n",
    "# final = []\n",
    "\n",
    "final = []\n",
    "for i in range(3):\n",
    "    size=[]\n",
    "    for j in range(5):\n",
    "        file = open('./results_30M','r').read().split('\\n')\n",
    "        line = 0\n",
    "        while(not file[line].startswith('CPU 0 cumulative IPC')):\n",
    "            line = line+1\n",
    "        size.append(float(file[line].split()[4]))\n",
    "    final.append(size)\n",
    "\n"
   ]
  },
  {
   "cell_type": "code",
   "execution_count": 1,
   "metadata": {},
   "outputs": [],
   "source": [
    "import matplotlib.pyplot as plt\n",
    "import numpy as np\n",
    "\n",
    "traces = ['cadical-high-60K-1227B.champsimtrace.xz', 'cadical-high-60K-134B.champsimtrace.xz', 'kissat-inc-high-30K-1802B.champsimtrace.xz']\n",
    "x_val = [1,2,4,8,16]"
   ]
  },
  {
   "cell_type": "code",
   "execution_count": 2,
   "metadata": {},
   "outputs": [],
   "source": [
    "def plot_graph(trace):\n",
    "    y_val = final[trace]\n",
    "    \n",
    "    plt.plot(x_val,y_val)\n",
    "    # plt.xticks(x_label)\n",
    "    plt.ylabel(\"IPC\")\n",
    "    plt.title(traces[trace])\n",
    "    plt.plot()\n",
    "\n",
    "    "
   ]
  },
  {
   "cell_type": "code",
   "execution_count": null,
   "metadata": {},
   "outputs": [],
   "source": [
    "plot_graph(2)"
   ]
  }
 ],
 "metadata": {
  "kernelspec": {
   "display_name": "Python 3",
   "language": "python",
   "name": "python3"
  },
  "language_info": {
   "codemirror_mode": {
    "name": "ipython",
    "version": 3
   },
   "file_extension": ".py",
   "mimetype": "text/x-python",
   "name": "python",
   "nbconvert_exporter": "python",
   "pygments_lexer": "ipython3",
   "version": "3.10.6"
  },
  "orig_nbformat": 4
 },
 "nbformat": 4,
 "nbformat_minor": 2
}
