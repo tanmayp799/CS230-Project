{
 "cells": [
  {
   "cell_type": "code",
   "execution_count": 1,
   "metadata": {},
   "outputs": [
    {
     "ename": "FileNotFoundError",
     "evalue": "[Errno 2] No such file or directory: './results_30M/llc_sets/'",
     "output_type": "error",
     "traceback": [
      "\u001b[0;31m---------------------------------------------------------------------------\u001b[0m",
      "\u001b[0;31mFileNotFoundError\u001b[0m                         Traceback (most recent call last)",
      "Cell \u001b[0;32mIn[1], line 3\u001b[0m\n\u001b[1;32m      1\u001b[0m \u001b[39mimport\u001b[39;00m \u001b[39mos\u001b[39;00m\n\u001b[0;32m----> 3\u001b[0m files \u001b[39m=\u001b[39m \u001b[39msorted\u001b[39m(os\u001b[39m.\u001b[39;49mlistdir(\u001b[39m'\u001b[39;49m\u001b[39m./results_30M/llc_sets/\u001b[39;49m\u001b[39m'\u001b[39;49m))\n\u001b[1;32m      4\u001b[0m \u001b[39m# print(files)\u001b[39;00m\n\u001b[1;32m      6\u001b[0m final \u001b[39m=\u001b[39m []\n",
      "\u001b[0;31mFileNotFoundError\u001b[0m: [Errno 2] No such file or directory: './results_30M/llc_sets/'"
     ]
    }
   ],
   "source": [
    "import os\n",
    "\n",
    "files = sorted(os.listdir('./results_30M/llc_sets/'))\n",
    "# print(files)\n",
    "\n",
    "final = []\n",
    "for i in range(4):\n",
    "    set=[]\n",
    "    for j in range(4):\n",
    "        file=open('./results_30M/llc_sets/%s'%(files[4*i+j]),'r').read().split('\\n')\n",
    "        line=0\n",
    "        while(not file[line].startswith('CPU 0 cumulative IPC')):\n",
    "            line = line+1\n",
    "        set.append(float(file[line].split()[4]))\n",
    "    final.append(set)\n",
    "\n",
    "print(final)"
   ]
  },
  {
   "cell_type": "code",
   "execution_count": 2,
   "metadata": {},
   "outputs": [
    {
     "ename": "NameError",
     "evalue": "name 'final' is not defined",
     "output_type": "error",
     "traceback": [
      "\u001b[0;31m---------------------------------------------------------------------------\u001b[0m",
      "\u001b[0;31mNameError\u001b[0m                                 Traceback (most recent call last)",
      "Cell \u001b[0;32mIn[2], line 5\u001b[0m\n\u001b[1;32m      2\u001b[0m x_val \u001b[39m=\u001b[39m [\u001b[39m0.5\u001b[39m,\u001b[39m1\u001b[39m,\u001b[39m2\u001b[39m,\u001b[39m4\u001b[39m]\n\u001b[1;32m      4\u001b[0m \u001b[39m# plt.plot(x_val,final[0],label = 'x 0.5',marker='o')\u001b[39;00m\n\u001b[0;32m----> 5\u001b[0m plt\u001b[39m.\u001b[39mplot(x_val,final[\u001b[39m0\u001b[39m],label \u001b[39m=\u001b[39m \u001b[39m'\u001b[39m\u001b[39mx 1\u001b[39m\u001b[39m'\u001b[39m,marker\u001b[39m=\u001b[39m\u001b[39m'\u001b[39m\u001b[39mo\u001b[39m\u001b[39m'\u001b[39m)\n\u001b[1;32m      6\u001b[0m plt\u001b[39m.\u001b[39mplot(x_val,final[\u001b[39m1\u001b[39m],label \u001b[39m=\u001b[39m \u001b[39m'\u001b[39m\u001b[39mx 2\u001b[39m\u001b[39m'\u001b[39m,marker\u001b[39m=\u001b[39m\u001b[39m'\u001b[39m\u001b[39mo\u001b[39m\u001b[39m'\u001b[39m)\n\u001b[1;32m      7\u001b[0m plt\u001b[39m.\u001b[39mplot(x_val,final[\u001b[39m2\u001b[39m],label \u001b[39m=\u001b[39m \u001b[39m'\u001b[39m\u001b[39mx 4\u001b[39m\u001b[39m'\u001b[39m,marker\u001b[39m=\u001b[39m\u001b[39m'\u001b[39m\u001b[39mo\u001b[39m\u001b[39m'\u001b[39m)\n",
      "\u001b[0;31mNameError\u001b[0m: name 'final' is not defined"
     ]
    }
   ],
   "source": [
    "import matplotlib.pyplot as plt\n",
    "x_val = [0.5,1,2,4]\n",
    "\n",
    "# plt.plot(x_val,final[0],label = 'x 0.5',marker='o')\n",
    "plt.plot(x_val,final[0],label = 'x 1',marker='o')\n",
    "plt.plot(x_val,final[1],label = 'x 2',marker='o')\n",
    "plt.plot(x_val,final[2],label = 'x 4',marker='o')\n",
    "plt.plot(x_val,final[3],label = 'x 8',marker='o')\n",
    "\n",
    "plt.ylabel(\"IPC\")\n",
    "plt.xlabel(\"way multiplier\")\n",
    "plt.title(\"Variation of IPC with LLC Cache size (set, way)\")\n",
    "legend=plt.legend()\n",
    "legend.set_title(\"set multiplier\")\n",
    "plt.show()"
   ]
  },
  {
   "cell_type": "code",
   "execution_count": null,
   "metadata": {},
   "outputs": [],
   "source": []
  }
 ],
 "metadata": {
  "kernelspec": {
   "display_name": "Python 3",
   "language": "python",
   "name": "python3"
  },
  "language_info": {
   "codemirror_mode": {
    "name": "ipython",
    "version": 3
   },
   "file_extension": ".py",
   "mimetype": "text/x-python",
   "name": "python",
   "nbconvert_exporter": "python",
   "pygments_lexer": "ipython3",
   "version": "3.10.6"
  },
  "orig_nbformat": 4
 },
 "nbformat": 4,
 "nbformat_minor": 2
}
